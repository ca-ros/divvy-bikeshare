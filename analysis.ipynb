{
 "cells": [
  {
   "cell_type": "markdown",
   "metadata": {},
   "source": [
    "![](https://media.giphy.com/media/UVAXeyrNgXQFIOnunV/giphy.gif)\n",
    "## Introduction\n",
    "\n",
    "Take an old bicycle. Paint it white. Leave it anywhere in the city. Tell people to use it. This was the first urban bike-sharing concept in history. Launched in Amsterdam in the 1960s, it was called the Witte Fietsenplan (the “white bicycle plan”). And it was not a great success.\n",
    "\n",
    "Here, we will identify the following:\n",
    "- Which stations are the most popular?\n",
    "- What are the peak hours of bike usage?\n",
    "- How do holidays and events affect bike usage?\n",
    "- What is the possible purpose of rentals? Casual and Subscriber?\n",
    "- How do station's popularity goes over time?\n",
    "\n",
    "Company: [Divvy](https://divvybikes.com) from Chicago<br>\n",
    "Location: Chicago\n",
    "\n",
    "The dataset is provided by [Divvy](https://divvybikes.com), compiled and cleaned by [Chris](https://github.com/ca-ros) (see [documentation](https://github.com/ca-ros/divvy-bikeshare/blob/master/data%20wrangling/README.md)).\n",
    "\n",
    "\n",
    "```py\n",
    "# Import required packages\n",
    "import numpy as np\n",
    "import pandas as pd\n",
    "import matplotlib.pyplot as plt\n",
    "import seaborn as sns\n",
    "```\n",
    "\n",
    "## Overview of data\n",
    "\n",
    "## Summary\n",
    "\n",
    "\n"
   ]
  }
 ],
 "metadata": {
  "kernelspec": {
   "display_name": "Python 3.10.4 64-bit",
   "language": "python",
   "name": "python3"
  },
  "language_info": {
   "name": "python",
   "version": "3.10.4"
  },
  "orig_nbformat": 4,
  "vscode": {
   "interpreter": {
    "hash": "9337a79df3e5d869f0c5777e0d2b1209a728c6a52c1d44e22a85de3e5a3843fd"
   }
  }
 },
 "nbformat": 4,
 "nbformat_minor": 2
}
