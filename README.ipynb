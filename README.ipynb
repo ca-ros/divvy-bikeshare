{
 "cells": [
  {
   "cell_type": "markdown",
   "metadata": {},
   "source": [
    "![](https://media.giphy.com/media/UVAXeyrNgXQFIOnunV/giphy.gif)\n",
    "## Introduction\n",
    "\n",
    "Take an old bicycle. Paint it white. Leave it anywhere in the city. Tell people to use it. This was the first urban bike-sharing concept in history. Launched in Amsterdam in the 1960s, it was called the Witte Fietsenplan (the “white bicycle plan”). And it was not a great success.\n",
    "\n",
    "Here, we will identify the following:\n",
    "- Which stations are the most popular?\n",
    "- What are the peak hours of bike usage?\n",
    "- How do holidays and events affect bike usage?\n",
    "- What is possible the purpose of bike rentals? Casual and Subscriber?\n",
    "- How do station's popularity goes over time?\n",
    "\n",
    "Company: [Divvy](https://divvybikes.com) from Chicago<br>\n",
    "Location: Chicago\n",
    "\n",
    "The dataset used in the analysis is provided by [Divvy](), compiled and cleaned by [Chris](https://github.com/ca-ros). Check out the data wrangling documentation [here](https://github.com/ca-ros/divvy-bikeshare/tree/master/data%20wrangling#data-wrangling)."
   ]
  },
  {
   "cell_type": "code",
   "execution_count": 2,
   "metadata": {},
   "outputs": [],
   "source": [
    "# Import required packages\n",
    "import numpy as np\n",
    "import pandas as pd\n",
    "import matplotlib.pyplot as plt\n",
    "import seaborn as sns"
   ]
  },
  {
   "cell_type": "markdown",
   "metadata": {},
   "source": [
    "## Overview of data"
   ]
  },
  {
   "cell_type": "markdown",
   "metadata": {},
   "source": []
  }
 ],
 "metadata": {
  "kernelspec": {
   "display_name": "Python 3.10.4 64-bit",
   "language": "python",
   "name": "python3"
  },
  "language_info": {
   "codemirror_mode": {
    "name": "ipython",
    "version": 3
   },
   "file_extension": ".py",
   "mimetype": "text/x-python",
   "name": "python",
   "nbconvert_exporter": "python",
   "pygments_lexer": "ipython3",
   "version": "3.10.4"
  },
  "orig_nbformat": 4,
  "vscode": {
   "interpreter": {
    "hash": "9337a79df3e5d869f0c5777e0d2b1209a728c6a52c1d44e22a85de3e5a3843fd"
   }
  }
 },
 "nbformat": 4,
 "nbformat_minor": 2
}
